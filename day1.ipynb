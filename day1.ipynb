{
 "cells": [
  {
   "cell_type": "markdown",
   "metadata": {},
   "source": [
    "### Advent of Code Day 1"
   ]
  },
  {
   "cell_type": "markdown",
   "metadata": {},
   "source": [
    "#### Part 1"
   ]
  },
  {
   "cell_type": "code",
   "execution_count": 41,
   "metadata": {},
   "outputs": [],
   "source": [
    "# import regex package to remove everything but numerical characters from lines\n",
    "import re\n",
    "\n",
    "with open('day1_input.txt', 'r') as fh:\n",
    "    lines = [line.rstrip() for line in fh]"
   ]
  },
  {
   "cell_type": "code",
   "execution_count": 42,
   "metadata": {},
   "outputs": [
    {
     "name": "stdout",
     "output_type": "stream",
     "text": [
      "54644\n"
     ]
    }
   ],
   "source": [
    "total = 0\n",
    "for line in lines:\n",
    "    # remove all alphabetical chars\n",
    "    cleaned = re.sub('\\D', '', line)\n",
    "\n",
    "    # sum first and last digit\n",
    "    total += (int(cleaned[0] + cleaned[-1]))\n",
    "\n",
    "print(total)"
   ]
  },
  {
   "cell_type": "markdown",
   "metadata": {},
   "source": [
    "#### Part 2"
   ]
  },
  {
   "cell_type": "code",
   "execution_count": 85,
   "metadata": {},
   "outputs": [],
   "source": [
    "dicto = {'one':'1', 'two':'2', 'three':'3', 'four':'4', 'five':'5', 'six':'6', 'seven':'7', 'eight':'8', 'nine':'9'}\n",
    "rev_dicto = {(key[::-1]):value for key, value in dicto.items()}"
   ]
  },
  {
   "cell_type": "code",
   "execution_count": 96,
   "metadata": {},
   "outputs": [
    {
     "data": {
      "text/plain": [
       "53348"
      ]
     },
     "execution_count": 96,
     "metadata": {},
     "output_type": "execute_result"
    }
   ],
   "source": [
    "new_total = 0\n",
    "\n",
    "for line in lines:\n",
    "    # we reverse the line and then check it character by character to ensure we get the first string that is equal to a number, to avoid overlaps\n",
    "    reversed = line[::-1]\n",
    "    for bckwd_idx in range(len(line)):\n",
    "        curr_str = reversed[:bckwd_idx]\n",
    "        for num in rev_dicto:\n",
    "            if num in curr_str:\n",
    "                reversed = reversed.replace(num, rev_dicto[num])\n",
    "\n",
    "    for forward_idx in range(len(line)):\n",
    "        curr_str = line[:forward_idx]\n",
    "        for num in dicto:\n",
    "            if num in curr_str:\n",
    "                line = line.replace(num, dicto[num])\n",
    "\n",
    "    clean_fwd = re.sub('\\D', '', line)\n",
    "    clean_bcwd = re.sub('\\D', '', reversed)\n",
    "\n",
    "    new_total += int(clean_fwd[0] + clean_bcwd[0])\n",
    "\n",
    "new_total"
   ]
  },
  {
   "cell_type": "code",
   "execution_count": 59,
   "metadata": {},
   "outputs": [],
   "source": [
    "with open('day1_tester.txt', 'r') as fh:\n",
    "    tester = [line.rstrip() for line in fh]"
   ]
  },
  {
   "cell_type": "code",
   "execution_count": 94,
   "metadata": {},
   "outputs": [
    {
     "data": {
      "text/plain": [
       "281"
      ]
     },
     "execution_count": 94,
     "metadata": {},
     "output_type": "execute_result"
    }
   ],
   "source": [
    "new_total = 0\n",
    "\n",
    "for line in tester:\n",
    "    reversed = line[::-1]\n",
    "    for bckwd_idx in range(len(line)):\n",
    "        curr_str = reversed[:bckwd_idx]\n",
    "        for num in rev_dicto:\n",
    "            if num in curr_str:\n",
    "                reversed = reversed.replace(num, rev_dicto[num])\n",
    "\n",
    "    for forward_idx in range(len(line)):\n",
    "        curr_str = line[:forward_idx]\n",
    "        for num in dicto:\n",
    "            if num in curr_str:\n",
    "                line = line.replace(num, dicto[num])\n",
    "\n",
    "    clean_fwd = re.sub('\\D', '', line)\n",
    "    clean_bcwd = re.sub('\\D', '', reversed)\n",
    "\n",
    "    new_total += int(clean_fwd[0] + clean_bcwd[0])\n",
    "\n",
    "new_total"
   ]
  },
  {
   "cell_type": "code",
   "execution_count": null,
   "metadata": {},
   "outputs": [],
   "source": []
  }
 ],
 "metadata": {
  "kernelspec": {
   "display_name": "cs329e",
   "language": "python",
   "name": "python3"
  },
  "language_info": {
   "codemirror_mode": {
    "name": "ipython",
    "version": 3
   },
   "file_extension": ".py",
   "mimetype": "text/x-python",
   "name": "python",
   "nbconvert_exporter": "python",
   "pygments_lexer": "ipython3",
   "version": "3.11.4"
  }
 },
 "nbformat": 4,
 "nbformat_minor": 2
}
